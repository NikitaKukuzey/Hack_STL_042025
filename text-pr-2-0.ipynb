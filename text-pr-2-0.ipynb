{
 "cells": [
  {
   "cell_type": "code",
   "execution_count": 4,
   "id": "b928b56d",
   "metadata": {
    "_cell_guid": "b1076dfc-b9ad-4769-8c92-a6c4dae69d19",
    "_uuid": "8f2839f25d086af736a60e9eeb907d3b93b6e0e5",
    "papermill": {
     "duration": 1.901857,
     "end_time": "2025-04-19T20:15:43.948357",
     "exception": false,
     "start_time": "2025-04-19T20:15:42.046500",
     "status": "completed"
    },
    "tags": []
   },
   "outputs": [],
   "source": [
    "import gc\n",
    "import argparse\n",
    "import pandas as pd\n",
    "import numpy as np\n",
    "import re\n",
    "from scipy import sparse\n",
    "from sklearn.feature_extraction import DictVectorizer\n",
    "from sklearn.feature_extraction.text import TfidfTransformer\n",
    "from sklearn.decomposition import TruncatedSVD\n",
    "import fasttext\n",
    "import fasttext.util\n",
    "from transliterate import translit"
   ]
  },
  {
   "cell_type": "markdown",
   "id": "b2387775",
   "metadata": {
    "papermill": {
     "duration": 0.002996,
     "end_time": "2025-04-19T20:15:43.955212",
     "exception": false,
     "start_time": "2025-04-19T20:15:43.952216",
     "status": "completed"
    },
    "tags": []
   },
   "source": [
    "Собственный vectorizer для входных данных"
   ]
  },
  {
   "cell_type": "code",
   "execution_count": 7,
   "id": "f3aa89e9",
   "metadata": {
    "papermill": {
     "duration": 75.102936,
     "end_time": "2025-04-19T20:16:59.061310",
     "exception": false,
     "start_time": "2025-04-19T20:15:43.958374",
     "status": "completed"
    },
    "tags": []
   },
   "outputs": [],
   "source": [
    "# 1) Читаем TSV\n",
    "df = pd.read_csv(\"text_data_new.tsv\", sep='\\t')"
   ]
  },
  {
   "cell_type": "code",
   "execution_count": 8,
   "id": "89799d7b",
   "metadata": {
    "papermill": {
     "duration": 0.035942,
     "end_time": "2025-04-19T20:16:59.100699",
     "exception": false,
     "start_time": "2025-04-19T20:16:59.064757",
     "status": "completed"
    },
    "tags": []
   },
   "outputs": [
    {
     "data": {
      "text/html": [
       "<div>\n",
       "<style scoped>\n",
       "    .dataframe tbody tr th:only-of-type {\n",
       "        vertical-align: middle;\n",
       "    }\n",
       "\n",
       "    .dataframe tbody tr th {\n",
       "        vertical-align: top;\n",
       "    }\n",
       "\n",
       "    .dataframe thead th {\n",
       "        text-align: right;\n",
       "    }\n",
       "</style>\n",
       "<table border=\"1\" class=\"dataframe\">\n",
       "  <thead>\n",
       "    <tr style=\"text-align: right;\">\n",
       "      <th></th>\n",
       "      <th>index</th>\n",
       "      <th>word_count</th>\n",
       "    </tr>\n",
       "  </thead>\n",
       "  <tbody>\n",
       "    <tr>\n",
       "      <th>0</th>\n",
       "      <td>81619</td>\n",
       "      <td>сериал 10 series 2 ivi 2 бесплатно 2 serialov ...</td>\n",
       "    </tr>\n",
       "    <tr>\n",
       "      <th>1</th>\n",
       "      <td>288108</td>\n",
       "      <td>mini 2 prokopevsk 2 sistema 2 стеллажи 2 вход ...</td>\n",
       "    </tr>\n",
       "    <tr>\n",
       "      <th>2</th>\n",
       "      <td>252671</td>\n",
       "      <td>uslug 1 костроме 2 doctors 1 работу 2 подслуша...</td>\n",
       "    </tr>\n",
       "    <tr>\n",
       "      <th>3</th>\n",
       "      <td>123476</td>\n",
       "      <td>мессенджер 4 услуги 1 ильи 2 объявления 1 доба...</td>\n",
       "    </tr>\n",
       "    <tr>\n",
       "      <th>4</th>\n",
       "      <td>13202</td>\n",
       "      <td>сериал 3 века 1 информация 2 внешний 1 феррари...</td>\n",
       "    </tr>\n",
       "    <tr>\n",
       "      <th>...</th>\n",
       "      <td>...</td>\n",
       "      <td>...</td>\n",
       "    </tr>\n",
       "    <tr>\n",
       "      <th>274837</th>\n",
       "      <td>24979</td>\n",
       "      <td>логинов 1 shojgu 1 shampuni 1 годы 1 косметики...</td>\n",
       "    </tr>\n",
       "    <tr>\n",
       "      <th>274838</th>\n",
       "      <td>336266</td>\n",
       "      <td>норма 1 сиквел 1 eda 1 zdorovya 1 иномарки 1 п...</td>\n",
       "    </tr>\n",
       "    <tr>\n",
       "      <th>274839</th>\n",
       "      <td>343454</td>\n",
       "      <td>экспорт 3 опубликовало 6 жестокость 3 продлить...</td>\n",
       "    </tr>\n",
       "    <tr>\n",
       "      <th>274840</th>\n",
       "      <td>123422</td>\n",
       "      <td>мобильные 3 снять 2 метки 1 самовывозом 2 mnp ...</td>\n",
       "    </tr>\n",
       "    <tr>\n",
       "      <th>274841</th>\n",
       "      <td>23885</td>\n",
       "      <td>мессенджер 2 добро 2 пожаловать 2</td>\n",
       "    </tr>\n",
       "  </tbody>\n",
       "</table>\n",
       "<p>274842 rows × 2 columns</p>\n",
       "</div>"
      ],
      "text/plain": [
       "         index                                         word_count\n",
       "0        81619  сериал 10 series 2 ivi 2 бесплатно 2 serialov ...\n",
       "1       288108  mini 2 prokopevsk 2 sistema 2 стеллажи 2 вход ...\n",
       "2       252671  uslug 1 костроме 2 doctors 1 работу 2 подслуша...\n",
       "3       123476  мессенджер 4 услуги 1 ильи 2 объявления 1 доба...\n",
       "4        13202  сериал 3 века 1 информация 2 внешний 1 феррари...\n",
       "...        ...                                                ...\n",
       "274837   24979  логинов 1 shojgu 1 shampuni 1 годы 1 косметики...\n",
       "274838  336266  норма 1 сиквел 1 eda 1 zdorovya 1 иномарки 1 п...\n",
       "274839  343454  экспорт 3 опубликовало 6 жестокость 3 продлить...\n",
       "274840  123422  мобильные 3 снять 2 метки 1 самовывозом 2 mnp ...\n",
       "274841   23885                  мессенджер 2 добро 2 пожаловать 2\n",
       "\n",
       "[274842 rows x 2 columns]"
      ]
     },
     "execution_count": 8,
     "metadata": {},
     "output_type": "execute_result"
    }
   ],
   "source": [
    "df"
   ]
  },
  {
   "cell_type": "code",
   "execution_count": 9,
   "id": "340794e5",
   "metadata": {
    "papermill": {
     "duration": 0.052192,
     "end_time": "2025-04-19T20:16:59.157746",
     "exception": false,
     "start_time": "2025-04-19T20:16:59.105554",
     "status": "completed"
    },
    "tags": []
   },
   "outputs": [],
   "source": [
    "df.dropna(inplace=True)"
   ]
  },
  {
   "cell_type": "markdown",
   "id": "a4e06d47",
   "metadata": {
    "papermill": {
     "duration": 0.002999,
     "end_time": "2025-04-19T20:16:59.164214",
     "exception": false,
     "start_time": "2025-04-19T20:16:59.161215",
     "status": "completed"
    },
    "tags": []
   },
   "source": [
    "В текстах много слов транслитов -> нужно обработать"
   ]
  },
  {
   "cell_type": "code",
   "execution_count": 11,
   "id": "88732c88",
   "metadata": {
    "papermill": {
     "duration": 5.456724,
     "end_time": "2025-04-19T20:17:04.624333",
     "exception": false,
     "start_time": "2025-04-19T20:16:59.167609",
     "status": "completed"
    },
    "tags": []
   },
   "outputs": [
    {
     "data": {
      "text/html": [
       "<div>\n",
       "<style scoped>\n",
       "    .dataframe tbody tr th:only-of-type {\n",
       "        vertical-align: middle;\n",
       "    }\n",
       "\n",
       "    .dataframe tbody tr th {\n",
       "        vertical-align: top;\n",
       "    }\n",
       "\n",
       "    .dataframe thead th {\n",
       "        text-align: right;\n",
       "    }\n",
       "</style>\n",
       "<table border=\"1\" class=\"dataframe\">\n",
       "  <thead>\n",
       "    <tr style=\"text-align: right;\">\n",
       "      <th></th>\n",
       "      <th>index</th>\n",
       "      <th>word_count</th>\n",
       "    </tr>\n",
       "  </thead>\n",
       "  <tbody>\n",
       "    <tr>\n",
       "      <th>0</th>\n",
       "      <td>81619</td>\n",
       "      <td>сериал 10 series 2 ivi 2 бесплатно 2 serialov ...</td>\n",
       "    </tr>\n",
       "    <tr>\n",
       "      <th>1</th>\n",
       "      <td>288108</td>\n",
       "      <td>mini 2 prokopevsk 2 sistema 2 стеллажи 2 вход ...</td>\n",
       "    </tr>\n",
       "    <tr>\n",
       "      <th>2</th>\n",
       "      <td>252671</td>\n",
       "      <td>uslug 1 костроме 2 doctors 1 работу 2 подслуша...</td>\n",
       "    </tr>\n",
       "    <tr>\n",
       "      <th>3</th>\n",
       "      <td>123476</td>\n",
       "      <td>мессенджер 4 услуги 1 ильи 2 объявления 1 доба...</td>\n",
       "    </tr>\n",
       "    <tr>\n",
       "      <th>4</th>\n",
       "      <td>13202</td>\n",
       "      <td>сериал 3 века 1 информация 2 внешний 1 феррари...</td>\n",
       "    </tr>\n",
       "    <tr>\n",
       "      <th>...</th>\n",
       "      <td>...</td>\n",
       "      <td>...</td>\n",
       "    </tr>\n",
       "    <tr>\n",
       "      <th>274837</th>\n",
       "      <td>24979</td>\n",
       "      <td>логинов 1 shojgu 1 shampuni 1 годы 1 косметики...</td>\n",
       "    </tr>\n",
       "    <tr>\n",
       "      <th>274838</th>\n",
       "      <td>336266</td>\n",
       "      <td>норма 1 сиквел 1 eda 1 zdorovya 1 иномарки 1 п...</td>\n",
       "    </tr>\n",
       "    <tr>\n",
       "      <th>274839</th>\n",
       "      <td>343454</td>\n",
       "      <td>экспорт 3 опубликовало 6 жестокость 3 продлить...</td>\n",
       "    </tr>\n",
       "    <tr>\n",
       "      <th>274840</th>\n",
       "      <td>123422</td>\n",
       "      <td>мобильные 3 снять 2 метки 1 самовывозом 2 mnp ...</td>\n",
       "    </tr>\n",
       "    <tr>\n",
       "      <th>274841</th>\n",
       "      <td>23885</td>\n",
       "      <td>мессенджер 2 добро 2 пожаловать 2</td>\n",
       "    </tr>\n",
       "  </tbody>\n",
       "</table>\n",
       "<p>274446 rows × 2 columns</p>\n",
       "</div>"
      ],
      "text/plain": [
       "         index                                         word_count\n",
       "0        81619  сериал 10 series 2 ivi 2 бесплатно 2 serialov ...\n",
       "1       288108  mini 2 prokopevsk 2 sistema 2 стеллажи 2 вход ...\n",
       "2       252671  uslug 1 костроме 2 doctors 1 работу 2 подслуша...\n",
       "3       123476  мессенджер 4 услуги 1 ильи 2 объявления 1 доба...\n",
       "4        13202  сериал 3 века 1 информация 2 внешний 1 феррари...\n",
       "...        ...                                                ...\n",
       "274837   24979  логинов 1 shojgu 1 shampuni 1 годы 1 косметики...\n",
       "274838  336266  норма 1 сиквел 1 eda 1 zdorovya 1 иномарки 1 п...\n",
       "274839  343454  экспорт 3 опубликовало 6 жестокость 3 продлить...\n",
       "274840  123422  мобильные 3 снять 2 метки 1 самовывозом 2 mnp ...\n",
       "274841   23885                  мессенджер 2 добро 2 пожаловать 2\n",
       "\n",
       "[274446 rows x 2 columns]"
      ]
     },
     "execution_count": 11,
     "metadata": {},
     "output_type": "execute_result"
    }
   ],
   "source": [
    "df"
   ]
  },
  {
   "cell_type": "code",
   "execution_count": null,
   "id": "92f94c99",
   "metadata": {
    "papermill": {
     "duration": 5.590864,
     "end_time": "2025-04-19T20:17:10.221405",
     "exception": false,
     "start_time": "2025-04-19T20:17:04.630541",
     "status": "completed"
    },
    "tags": []
   },
   "outputs": [],
   "source": []
  },
  {
   "cell_type": "code",
   "execution_count": 13,
   "id": "f14b5e72",
   "metadata": {
    "papermill": {
     "duration": 0.51589,
     "end_time": "2025-04-19T20:17:10.745698",
     "exception": false,
     "start_time": "2025-04-19T20:17:10.229808",
     "status": "completed"
    },
    "tags": []
   },
   "outputs": [],
   "source": [
    "from transliterate import detect_language, translit\n",
    "from pymorphy3 import MorphAnalyzer\n",
    "import re\n",
    "\n",
    "morph_ru = MorphAnalyzer(lang='ru')"
   ]
  },
  {
   "cell_type": "code",
   "execution_count": 14,
   "id": "cfaf2414-8421-46c4-9e51-6bddd467069a",
   "metadata": {},
   "outputs": [
    {
     "name": "stderr",
     "output_type": "stream",
     "text": [
      "[nltk_data] Downloading package stopwords to\n",
      "[nltk_data]     C:\\Users\\Ivanp\\AppData\\Roaming\\nltk_data...\n",
      "[nltk_data]   Package stopwords is already up-to-date!\n"
     ]
    },
    {
     "data": {
      "text/plain": [
       "True"
      ]
     },
     "execution_count": 14,
     "metadata": {},
     "output_type": "execute_result"
    }
   ],
   "source": []
  },
  {
   "cell_type": "code",
   "execution_count": 16,
   "id": "0f7a3f7a",
   "metadata": {
    "papermill": {
     "duration": 3.156546,
     "end_time": "2025-04-19T20:17:13.909290",
     "exception": false,
     "start_time": "2025-04-19T20:17:10.752744",
     "status": "completed"
    },
    "tags": []
   },
   "outputs": [],
   "source": [
    "from nltk.corpus import stopwords\n",
    "from nltk.stem.snowball import SnowballStemmer\n",
    "from nltk.stem import PorterStemmer\n",
    "\n",
    "eng_stem = PorterStemmer()\n",
    "rus_stem = SnowballStemmer(\"russian\")\n",
    "rus_sw = set(stopwords.words('russian'))\n",
    "eng_sw = set(stopwords.words('english'))"
   ]
  },
  {
   "cell_type": "code",
   "execution_count": 17,
   "id": "55586794",
   "metadata": {
    "papermill": {
     "duration": 0.013155,
     "end_time": "2025-04-19T20:17:13.928570",
     "exception": false,
     "start_time": "2025-04-19T20:17:13.915415",
     "status": "completed"
    },
    "tags": []
   },
   "outputs": [],
   "source": [
    "def is_russian_word(cyrillic_word):\n",
    "    threshold = 0.6\n",
    "    parsed = morph_ru.parse(cyrillic_word)\n",
    "    if parsed[0].score > threshold:\n",
    "        return True\n",
    "    return False"
   ]
  },
  {
   "cell_type": "code",
   "execution_count": 18,
   "id": "171bf921",
   "metadata": {
    "papermill": {
     "duration": 0.016629,
     "end_time": "2025-04-19T20:17:13.950642",
     "exception": false,
     "start_time": "2025-04-19T20:17:13.934013",
     "status": "completed"
    },
    "tags": []
   },
   "outputs": [],
   "source": [
    "import re\n",
    "from functools import lru_cache\n",
    "from nltk.corpus import stopwords\n",
    "from nltk.stem.snowball import SnowballStemmer\n",
    "from nltk.stem import PorterStemmer\n",
    "from transliterate import translit\n",
    "from pymorphy3 import MorphAnalyzer\n",
    "\n",
    "# Предкомпилируем паттерн\n",
    "_re_russian = re.compile('[а-яА-Я]')\n",
    "\n",
    "# Инициализируем стеммеры и стоп‑слова один раз\n",
    "rus_stem = SnowballStemmer(\"russian\")\n",
    "eng_stem = PorterStemmer()\n",
    "rus_sw = set(stopwords.words('russian'))\n",
    "eng_sw = set(stopwords.words('english'))\n",
    "morph_ru = MorphAnalyzer(lang='ru')\n",
    "\n",
    "def _is_russian_word(word: str, threshold: float = 0.6) -> bool:\n",
    "    parsed = morph_ru.parse(word)\n",
    "    return parsed and parsed[0].score > threshold\n",
    "\n",
    "@lru_cache(maxsize=None)\n",
    "def _stem_token(token: str) -> str:\n",
    "    # Пропускаем стоп‑слова\n",
    "    if token in rus_sw or token in eng_sw:\n",
    "        return None\n",
    "\n",
    "    # Если есть кириллица — сразу русское стеммирование\n",
    "    if _re_russian.search(token):\n",
    "        return rus_stem.stem(token)\n",
    "\n",
    "    # Иначе пробуем транслит и проверку через pymorphy\n",
    "    conv = translit(token, 'ru')\n",
    "    if _is_russian_word(conv):\n",
    "        return rus_stem.stem(conv)\n",
    "    else:\n",
    "        return eng_stem.stem(token)\n",
    "\n",
    "def stem(text: str) -> str:\n",
    "    \"\"\"\n",
    "    Вход: строка вида \"word1 count1 word2 count2 ...\"\n",
    "    Выход: строка, где каждое stemmed слово повторяется count раз.\n",
    "    \"\"\"\n",
    "    parts = text.split()\n",
    "    out_tokens = []\n",
    "\n",
    "    # Обрабатываем парами (токен, count)\n",
    "    for tok, cnt_str in zip(parts[0::2], parts[1::2]):\n",
    "        cnt = int(cnt_str)\n",
    "        st = _stem_token(tok)\n",
    "        if st:\n",
    "            # добавляем st повторённый cnt раз\n",
    "            out_tokens.append(f\"{st} {cnt}\")\n",
    "\n",
    "    return ' '.join(out_tokens)\n"
   ]
  },
  {
   "cell_type": "code",
   "execution_count": 19,
   "id": "3d5aa509",
   "metadata": {
    "papermill": {
     "duration": 13098.072044,
     "end_time": "2025-04-19T23:55:32.027882",
     "exception": false,
     "start_time": "2025-04-19T20:17:13.955838",
     "status": "completed"
    },
    "tags": []
   },
   "outputs": [
    {
     "name": "stderr",
     "output_type": "stream",
     "text": [
      "100%|██████████| 274446/274446 [06:22<00:00, 716.70it/s] \n"
     ]
    }
   ],
   "source": [
    "from tqdm import tqdm\n",
    "tqdm.pandas()  # активация прогресс-бара\n",
    "df['word_count'] = df['word_count'].progress_apply(stem)"
   ]
  },
  {
   "cell_type": "code",
   "execution_count": 29,
   "id": "b64185a4",
   "metadata": {
    "papermill": {
     "duration": 184.626465,
     "end_time": "2025-04-19T23:58:38.987369",
     "exception": false,
     "start_time": "2025-04-19T23:55:34.360904",
     "status": "completed"
    },
    "tags": []
   },
   "outputs": [
    {
     "data": {
      "text/plain": [
       "['ptext_v1.joblib']"
      ]
     },
     "execution_count": 29,
     "metadata": {},
     "output_type": "execute_result"
    }
   ],
   "source": [
    "import joblib\n",
    "joblib.dump(df, 'ptext_v1.joblib')"
   ]
  },
  {
   "cell_type": "code",
   "execution_count": null,
   "id": "634e61cd-d9f3-4acb-8223-aa3783fc0c73",
   "metadata": {},
   "outputs": [],
   "source": []
  }
 ],
 "metadata": {
  "kaggle": {
   "accelerator": "none",
   "dataSources": [
    {
     "databundleVersionId": 11906800,
     "sourceId": 99585,
     "sourceType": "competition"
    },
    {
     "datasetId": 7185026,
     "sourceId": 11465682,
     "sourceType": "datasetVersion"
    }
   ],
   "dockerImageVersionId": 31012,
   "isGpuEnabled": false,
   "isInternetEnabled": true,
   "language": "python",
   "sourceType": "notebook"
  },
  "kernelspec": {
   "display_name": "Python [conda env:base] *",
   "language": "python",
   "name": "conda-base-py"
  },
  "language_info": {
   "codemirror_mode": {
    "name": "ipython",
    "version": 3
   },
   "file_extension": ".py",
   "mimetype": "text/x-python",
   "name": "python",
   "nbconvert_exporter": "python",
   "pygments_lexer": "ipython3",
   "version": "3.12.7"
  },
  "papermill": {
   "default_parameters": {},
   "duration": 13387.336872,
   "end_time": "2025-04-19T23:58:44.612202",
   "environment_variables": {},
   "exception": null,
   "input_path": "__notebook__.ipynb",
   "output_path": "__notebook__.ipynb",
   "parameters": {},
   "start_time": "2025-04-19T20:15:37.275330",
   "version": "2.6.0"
  }
 },
 "nbformat": 4,
 "nbformat_minor": 5
}
